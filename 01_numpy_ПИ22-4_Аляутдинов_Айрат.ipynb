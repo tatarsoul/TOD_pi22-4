{
  "nbformat": 4,
  "nbformat_minor": 0,
  "metadata": {
    "colab": {
      "provenance": []
    },
    "kernelspec": {
      "name": "python3",
      "display_name": "Python 3"
    },
    "language_info": {
      "name": "python"
    }
  },
  "cells": [
    {
      "cell_type": "code",
      "execution_count": 2,
      "metadata": {
        "id": "O7xn2cl8YfG8"
      },
      "outputs": [],
      "source": [
        "import numpy as np"
      ]
    },
    {
      "cell_type": "code",
      "source": [
        "#1. Файл `minutes_n_ingredients.csv` содержит информацию об идентификаторе рецепта, времени его выполнения в минутах и количестве необходимых ингредиентов. Считайте данные из этого файла в виде массива `numpy` типа `int32`, используя `np.loadtxt`. Выведите на экран первые 5 строк массива.\"\n",
        "\n",
        "kolonki = np.loadtxt('minutes_n_ingredients.csv', max_rows=1, dtype=str, delimiter=',')\n",
        "dannie = np.loadtxt('minutes_n_ingredients.csv', skiprows=1, dtype=np.int32, delimiter=',')\n",
        "\n",
        "raw_indices=[0,1,2,3,4]\n",
        "dannie[raw_indices]"
      ],
      "metadata": {
        "colab": {
          "base_uri": "https://localhost:8080/"
        },
        "id": "A3sttD4s1WoB",
        "outputId": "9d8495c5-4181-4a7b-feed-013fc6dbefb5"
      },
      "execution_count": 3,
      "outputs": [
        {
          "output_type": "execute_result",
          "data": {
            "text/plain": [
              "array([[127244,     60,     16],\n",
              "       [ 23891,     25,      7],\n",
              "       [ 94746,     10,      6],\n",
              "       [ 67660,      5,      6],\n",
              "       [157911,     60,     14]], dtype=int32)"
            ]
          },
          "metadata": {},
          "execution_count": 3
        }
      ]
    },
    {
      "cell_type": "code",
      "source": [
        " #2. Вычислите среднее значение, минимум, максимум и медиану по каждому из столбцов, кроме первого.\"\n",
        "column = 1\n",
        "print(f\"Минимальное: {np.min(dannie[:, column])}\", f\"Максимальное: {np.max(dannie[:, column])}\", f'Среднее: {np.mean(dannie[:, column])}', f\"Медиана: {np.median(dannie[:, column])}\", sep='\\n', end='\\n\\n')\n",
        "column = 2\n",
        "print(f\"Минимальное: {np.min(dannie[:, column])}\", f\"Максимальное: {np.max(dannie[:, column])}\", f'Среднее: {np.mean(dannie[:, column])}', f\"Медиана: {np.median(dannie[:, column])}\", sep='\\n', end='\\n\\n')\n",
        "\n"
      ],
      "metadata": {
        "colab": {
          "base_uri": "https://localhost:8080/"
        },
        "id": "rfhRdkRG1el5",
        "outputId": "ee1a8001-328a-4dfe-a452-b4c37ec88fef"
      },
      "execution_count": 11,
      "outputs": [
        {
          "output_type": "stream",
          "name": "stdout",
          "text": [
            "Минимальное: 0\n",
            "Максимальное: 2147483647\n",
            "Среднее: 21601.00169\n",
            "Медиана: 40.0\n",
            "\n",
            "Минимальное: 1\n",
            "Максимальное: 39\n",
            "Среднее: 9.05528\n",
            "Медиана: 9.0\n",
            "\n"
          ]
        }
      ]
    },
    {
      "cell_type": "code",
      "source": [
        " #3. Ограничьте сверху значения продолжительности выполнения рецепта значением квантиля $q_{0.75}$. \"\n",
        "time_out = dannie.copy()\n",
        "q_3 = np.quantile(time_out[:, 1], q=0.75, axis=0)\n",
        "time_out[:, 1][time_out[:, 1] > q_3] = q_3\n",
        "\n",
        "time_out"
      ],
      "metadata": {
        "colab": {
          "base_uri": "https://localhost:8080/"
        },
        "id": "3wV2YVCL1kkU",
        "outputId": "d1b9f444-e3bf-4a0d-eb12-258ee5040543"
      },
      "execution_count": 6,
      "outputs": [
        {
          "output_type": "execute_result",
          "data": {
            "text/plain": [
              "array([[127244,     60,     16],\n",
              "       [ 23891,     25,      7],\n",
              "       [ 94746,     10,      6],\n",
              "       ...,\n",
              "       [498432,     65,     15],\n",
              "       [370915,      5,      4],\n",
              "       [ 81993,     65,     14]], dtype=int32)"
            ]
          },
          "metadata": {},
          "execution_count": 6
        }
      ]
    },
    {
      "cell_type": "code",
      "source": [
        "#4. Посчитайте, для скольких рецептов указана продолжительность, равная нулю. Замените для таких строк значение в данном столбце на 1.\"\n",
        "bez_0 = time_out.copy()\n",
        "good_day = bez_0[:, 1] == 0\n",
        "nuli = np.count_nonzero(good_day)\n",
        "bez_0[:, 1][good_day] = 1\n",
        "\n",
        "nuli\n",
        "bez_0"
      ],
      "metadata": {
        "colab": {
          "base_uri": "https://localhost:8080/"
        },
        "id": "aP8jCjUJ1t7w",
        "outputId": "d17fa9d8-9187-4e89-8e57-f51560408f3e"
      },
      "execution_count": 8,
      "outputs": [
        {
          "output_type": "execute_result",
          "data": {
            "text/plain": [
              "array([[127244,     60,     16],\n",
              "       [ 23891,     25,      7],\n",
              "       [ 94746,     10,      6],\n",
              "       ...,\n",
              "       [498432,     65,     15],\n",
              "       [370915,      5,      4],\n",
              "       [ 81993,     65,     14]], dtype=int32)"
            ]
          },
          "metadata": {},
          "execution_count": 8
        }
      ]
    },
    {
      "cell_type": "code",
      "source": [
        "  #5. Посчитайте, сколько уникальных рецептов находится в датасете.\"\n",
        "unique_items = np.unique(bez_0[:, 1:], axis=0).shape[0]\n",
        "unique_items"
      ],
      "metadata": {
        "colab": {
          "base_uri": "https://localhost:8080/"
        },
        "id": "yt3_08VQ12LO",
        "outputId": "de1c3d71-1501-4473-852a-ddb358ce869d"
      },
      "execution_count": 9,
      "outputs": [
        {
          "output_type": "execute_result",
          "data": {
            "text/plain": [
              "1135"
            ]
          },
          "metadata": {},
          "execution_count": 9
        }
      ]
    },
    {
      "cell_type": "code",
      "source": [
        "#6. Сколько и каких различных значений кол-ва ингредиентов присутвует в рецептах из датасета?\"\n",
        "len(np.unique(bez_0[:, 2]))"
      ],
      "metadata": {
        "colab": {
          "base_uri": "https://localhost:8080/"
        },
        "id": "T5oCJ0JC1401",
        "outputId": "14403654-4990-47ee-d2de-b116f3d2dd00"
      },
      "execution_count": 10,
      "outputs": [
        {
          "output_type": "execute_result",
          "data": {
            "text/plain": [
              "37"
            ]
          },
          "metadata": {},
          "execution_count": 10
        }
      ]
    },
    {
      "cell_type": "code",
      "source": [
        "#7. Создайте версию массива, содержащую информацию только о рецептах, состоящих не более чем из 5 ингредиентов.\"\n",
        "bez_0[bez_0[:, 2] <= 5]"
      ],
      "metadata": {
        "id": "RZgKVauV16wy"
      },
      "execution_count": null,
      "outputs": []
    },
    {
      "cell_type": "code",
      "source": [
        "#8. Для каждого рецепта посчитайте, сколько в среднем ингредиентов приходится на одну минуту рецепта. Найдите максимальное значение этой величины для всего датасета\"\n",
        "temp = bez_0.copy()\n",
        "results = (temp[:,2]/temp[:,1])\n",
        "results\n",
        "results.max()"
      ],
      "metadata": {
        "colab": {
          "base_uri": "https://localhost:8080/"
        },
        "id": "ObbKVK3l19uO",
        "outputId": "1e084046-368f-4a09-da58-ff0a770095fd"
      },
      "execution_count": 12,
      "outputs": [
        {
          "output_type": "execute_result",
          "data": {
            "text/plain": [
              "24.0"
            ]
          },
          "metadata": {},
          "execution_count": 12
        }
      ]
    },
    {
      "cell_type": "code",
      "source": [
        "#9. Вычислите среднее количество ингредиентов для топ-100 рецептов с наибольшей продолжительностью\"\n",
        "the_best_of_100 = np.argsort(bez_0[:, 1])[:-100:-1]\n",
        "bez_0[the_best_of_100][:, 2].mean()"
      ],
      "metadata": {
        "colab": {
          "base_uri": "https://localhost:8080/"
        },
        "id": "-KCAhoSZ2Ah9",
        "outputId": "478cc3a9-8ae6-4fa7-f345-652376cb91b0"
      },
      "execution_count": 13,
      "outputs": [
        {
          "output_type": "execute_result",
          "data": {
            "text/plain": [
              "9.94949494949495"
            ]
          },
          "metadata": {},
          "execution_count": 13
        }
      ]
    },
    {
      "cell_type": "code",
      "source": [
        "#10. Выберите случайным образом и выведите информацию о 10 различных рецептах\"\n",
        "\n",
        "dannie[np.random.randint(dannie.shape[0], size=10), :]"
      ],
      "metadata": {
        "colab": {
          "base_uri": "https://localhost:8080/"
        },
        "id": "Ccf-AIwh2CVR",
        "outputId": "2de0b150-c7d4-44fa-cbf9-e50b3c724c8c"
      },
      "execution_count": 15,
      "outputs": [
        {
          "output_type": "execute_result",
          "data": {
            "text/plain": [
              "array([[ 98800,      6,      4],\n",
              "       [197496,     22,      6],\n",
              "       [361848,     50,      6],\n",
              "       [327564,     10,      6],\n",
              "       [363413,    365,      5],\n",
              "       [ 82264,      8,      6],\n",
              "       [474496,     60,     14],\n",
              "       [149377,     75,     16],\n",
              "       [179809,     35,     12],\n",
              "       [452950,     20,      8]], dtype=int32)"
            ]
          },
          "metadata": {},
          "execution_count": 15
        }
      ]
    },
    {
      "cell_type": "code",
      "source": [
        " #11. Выведите процент рецептов, кол-во ингредиентов в которых меньше среднего.\"\n",
        "not_bad_percent = bez_0[the_best_of_100][:, 2].mean()\n",
        "good_day = dannie[:, 2] < not_bad_percent\n",
        "print(len(dannie[good_day])/len(dannie) * 100)"
      ],
      "metadata": {
        "colab": {
          "base_uri": "https://localhost:8080/"
        },
        "id": "xuFWBvwu2K_O",
        "outputId": "c8c5c191-68a8-49ec-81a1-c074f0862e26"
      },
      "execution_count": 16,
      "outputs": [
        {
          "output_type": "stream",
          "name": "stdout",
          "text": [
            "58.802\n"
          ]
        }
      ]
    },
    {
      "cell_type": "code",
      "source": [
        " #12. Назовем \\\"простым\\\" такой рецепт, длительность выполнения которого не больше 20 минут и кол-во ингредиентов в котором не больше 5. Создайте версию датасета с дополнительным столбцом, значениями которого являются 1, если рецепт простой, и 0 в противном случае.\"\n",
        "\n",
        "added_column = dannie.copy()\n",
        "good_day = (dannie[:, 1] <= 20) & (dannie[:, 2] <= 5)\n",
        "column = good_day.astype(int)\n",
        "added_column = np.column_stack([added_column, column])\n",
        "print(added_column)"
      ],
      "metadata": {
        "colab": {
          "base_uri": "https://localhost:8080/"
        },
        "id": "cjwDHZaS2OTq",
        "outputId": "14ccfe5e-9a7c-4aec-acea-595d2c485c22"
      },
      "execution_count": 17,
      "outputs": [
        {
          "output_type": "stream",
          "name": "stdout",
          "text": [
            "[[127244     60     16      0]\n",
            " [ 23891     25      7      0]\n",
            " [ 94746     10      6      0]\n",
            " ...\n",
            " [498432     65     15      0]\n",
            " [370915      5      4      1]\n",
            " [ 81993    140     14      0]]\n"
          ]
        }
      ]
    },
    {
      "cell_type": "code",
      "source": [
        " #13. Выведите процент \\\"простых\\\" рецептов в датасете\"\n",
        "\n",
        "good_day = added_column[:, 3] == 1\n",
        "temp = added_column[:, 3][good_day]\n",
        "len(temp)/len(added_column) * 100"
      ],
      "metadata": {
        "colab": {
          "base_uri": "https://localhost:8080/"
        },
        "id": "zPRWBsh02RTM",
        "outputId": "a4ee3775-8914-49d0-cf43-6057dbc92818"
      },
      "execution_count": 19,
      "outputs": [
        {
          "output_type": "execute_result",
          "data": {
            "text/plain": [
              "9.552"
            ]
          },
          "metadata": {},
          "execution_count": 19
        }
      ]
    },
    {
      "cell_type": "code",
      "source": [
        "\n",
        "    #14. Разделим рецепты на группы по следующему правилу. Назовем рецепты короткими, если их продолжительность составляет менее 10 минут; стандартными, если их продолжительность составляет более 10, но менее 20 минут; и длинными, если их продолжительность составляет не менее 20 минут. Создайте трехмерный массив, где нулевая ось отвечает за номер группы (короткий, стандартный или длинный рецепт), первая ось - за сам рецепт и вторая ось - за характеристики рецепта. Выберите максимальное количество рецептов из каждой группы таким образом, чтобы было возможно сформировать трехмерный массив. Выведите форму полученного массива.\"\n",
        "\n",
        "short_arr = dannie[dannie[:,1] < 10]\n",
        "good_day = (dannie[:,1] >= 10) & (dannie[:,1] < 20)\n",
        "standard_arr = dannie[good_day]\n",
        "long_arr = dannie[20 <= dannie[:,1]]\n",
        "\n",
        "crop_value = np.min([short_arr.shape[0], standard_arr.shape[0], long_arr.shape[0]])\n",
        "\n",
        "result_arr = np.array([short_arr[:crop_value], standard_arr[:crop_value], long_arr[:crop_value]])\n",
        "result_arr"
      ],
      "metadata": {
        "colab": {
          "base_uri": "https://localhost:8080/"
        },
        "id": "wORjo9FCYmmX",
        "outputId": "76debde1-62a8-4dad-f64e-5b595783a1e1"
      },
      "execution_count": 20,
      "outputs": [
        {
          "output_type": "execute_result",
          "data": {
            "text/plain": [
              "array([[[ 67660,      5,      6],\n",
              "        [366174,      7,      9],\n",
              "        [204134,      5,      3],\n",
              "        ...,\n",
              "        [420725,      5,      3],\n",
              "        [  4747,      0,      9],\n",
              "        [370915,      5,      4]],\n",
              "\n",
              "       [[ 94746,     10,      6],\n",
              "        [ 33941,     18,      9],\n",
              "        [446597,     15,      5],\n",
              "        ...,\n",
              "        [  9831,     15,      7],\n",
              "        [335859,     12,     14],\n",
              "        [256812,     10,      3]],\n",
              "\n",
              "       [[127244,     60,     16],\n",
              "        [ 23891,     25,      7],\n",
              "        [157911,     60,     14],\n",
              "        ...,\n",
              "        [168901,     25,      7],\n",
              "        [392339,     35,     13],\n",
              "        [206732,     45,     10]]], dtype=int32)"
            ]
          },
          "metadata": {},
          "execution_count": 20
        }
      ]
    }
  ]
}