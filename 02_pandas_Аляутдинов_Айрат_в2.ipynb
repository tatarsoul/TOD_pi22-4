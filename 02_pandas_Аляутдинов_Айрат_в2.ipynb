{
  "cells": [
    {
      "cell_type": "markdown",
      "metadata": {
        "id": "yoea2vWfAQYJ"
      },
      "source": [
        "# Pandas"
      ]
    },
    {
      "cell_type": "markdown",
      "metadata": {
        "id": "md8bO3fhAQYO"
      },
      "source": [
        "Материалы:\n",
        "* Макрушин С.В. \"Лекция 2: Библиотека Pandas\"\n",
        "* https://pandas.pydata.org/docs/user_guide/index.html#\n",
        "* https://pandas.pydata.org/docs/reference/index.html\n",
        "* Уэс Маккини. Python и анализ данных"
      ]
    },
    {
      "cell_type": "code",
      "source": [
        "import pandas as pd\n",
        "import numpy as np\n",
        "from pandas._libs.tslibs import dtypes\n",
        "import datetime\n",
        "import re"
      ],
      "metadata": {
        "id": "3AGsypcNeKgm"
      },
      "execution_count": null,
      "outputs": []
    },
    {
      "cell_type": "markdown",
      "metadata": {
        "id": "vsXDpgE0AQYP"
      },
      "source": [
        "## Задачи для совместного разбора"
      ]
    },
    {
      "cell_type": "markdown",
      "metadata": {
        "id": "pDyktVYkAQYP"
      },
      "source": [
        "1. Загрузите данные из файла `sp500hst.txt` и обозначьте столбцы в соответствии с содержимым: `\"date\", \"ticker\", \"open\", \"high\", \"low\", \"close\", \"volume\"`."
      ]
    },
    {
      "cell_type": "code",
      "source": [
        "open_file = pd.read_csv('sp500hst.txt')\n",
        "open_file.columns = [\"date\", \"ticker\", \"open\", \"high\", \"low\", \"close\", \"volume\"]\n",
        "open_file"
      ],
      "metadata": {
        "colab": {
          "base_uri": "https://localhost:8080/",
          "height": 423
        },
        "id": "ohplMlEXd0lK",
        "outputId": "dd7b1989-4396-4f0c-e0ef-f4f922ef1893"
      },
      "execution_count": null,
      "outputs": [
        {
          "output_type": "execute_result",
          "data": {
            "text/plain": [
              "            date ticker   open     high     low  close  volume\n",
              "0       20090824      A  25.64  25.7400  25.330  25.50   22247\n",
              "1       20090825      A  25.50  25.7000  25.225  25.34   30891\n",
              "2       20090826      A  25.32  25.6425  25.145  25.48   33334\n",
              "3       20090827      A  25.50  25.5700  25.230  25.54   70176\n",
              "4       20090828      A  25.67  26.0500  25.630  25.83   39694\n",
              "...          ...    ...    ...      ...     ...    ...     ...\n",
              "122568  20100813    ZMH  51.72  51.9000  51.380  51.44   14561\n",
              "122569  20100816    ZMH  51.13  51.4700  50.600  51.00   13489\n",
              "122570  20100817    ZMH  51.14  51.6000  50.890  51.21   20498\n",
              "122571  20100819    ZMH  51.63  51.6300  50.170  50.22   18259\n",
              "122572  20100820    ZMH  50.03  50.5500  49.480  49.82   17792\n",
              "\n",
              "[122573 rows x 7 columns]"
            ],
            "text/html": [
              "\n",
              "  <div id=\"df-404a4e64-708e-4941-bdd4-1b365ecb1745\">\n",
              "    <div class=\"colab-df-container\">\n",
              "      <div>\n",
              "<style scoped>\n",
              "    .dataframe tbody tr th:only-of-type {\n",
              "        vertical-align: middle;\n",
              "    }\n",
              "\n",
              "    .dataframe tbody tr th {\n",
              "        vertical-align: top;\n",
              "    }\n",
              "\n",
              "    .dataframe thead th {\n",
              "        text-align: right;\n",
              "    }\n",
              "</style>\n",
              "<table border=\"1\" class=\"dataframe\">\n",
              "  <thead>\n",
              "    <tr style=\"text-align: right;\">\n",
              "      <th></th>\n",
              "      <th>date</th>\n",
              "      <th>ticker</th>\n",
              "      <th>open</th>\n",
              "      <th>high</th>\n",
              "      <th>low</th>\n",
              "      <th>close</th>\n",
              "      <th>volume</th>\n",
              "    </tr>\n",
              "  </thead>\n",
              "  <tbody>\n",
              "    <tr>\n",
              "      <th>0</th>\n",
              "      <td>20090824</td>\n",
              "      <td>A</td>\n",
              "      <td>25.64</td>\n",
              "      <td>25.7400</td>\n",
              "      <td>25.330</td>\n",
              "      <td>25.50</td>\n",
              "      <td>22247</td>\n",
              "    </tr>\n",
              "    <tr>\n",
              "      <th>1</th>\n",
              "      <td>20090825</td>\n",
              "      <td>A</td>\n",
              "      <td>25.50</td>\n",
              "      <td>25.7000</td>\n",
              "      <td>25.225</td>\n",
              "      <td>25.34</td>\n",
              "      <td>30891</td>\n",
              "    </tr>\n",
              "    <tr>\n",
              "      <th>2</th>\n",
              "      <td>20090826</td>\n",
              "      <td>A</td>\n",
              "      <td>25.32</td>\n",
              "      <td>25.6425</td>\n",
              "      <td>25.145</td>\n",
              "      <td>25.48</td>\n",
              "      <td>33334</td>\n",
              "    </tr>\n",
              "    <tr>\n",
              "      <th>3</th>\n",
              "      <td>20090827</td>\n",
              "      <td>A</td>\n",
              "      <td>25.50</td>\n",
              "      <td>25.5700</td>\n",
              "      <td>25.230</td>\n",
              "      <td>25.54</td>\n",
              "      <td>70176</td>\n",
              "    </tr>\n",
              "    <tr>\n",
              "      <th>4</th>\n",
              "      <td>20090828</td>\n",
              "      <td>A</td>\n",
              "      <td>25.67</td>\n",
              "      <td>26.0500</td>\n",
              "      <td>25.630</td>\n",
              "      <td>25.83</td>\n",
              "      <td>39694</td>\n",
              "    </tr>\n",
              "    <tr>\n",
              "      <th>...</th>\n",
              "      <td>...</td>\n",
              "      <td>...</td>\n",
              "      <td>...</td>\n",
              "      <td>...</td>\n",
              "      <td>...</td>\n",
              "      <td>...</td>\n",
              "      <td>...</td>\n",
              "    </tr>\n",
              "    <tr>\n",
              "      <th>122568</th>\n",
              "      <td>20100813</td>\n",
              "      <td>ZMH</td>\n",
              "      <td>51.72</td>\n",
              "      <td>51.9000</td>\n",
              "      <td>51.380</td>\n",
              "      <td>51.44</td>\n",
              "      <td>14561</td>\n",
              "    </tr>\n",
              "    <tr>\n",
              "      <th>122569</th>\n",
              "      <td>20100816</td>\n",
              "      <td>ZMH</td>\n",
              "      <td>51.13</td>\n",
              "      <td>51.4700</td>\n",
              "      <td>50.600</td>\n",
              "      <td>51.00</td>\n",
              "      <td>13489</td>\n",
              "    </tr>\n",
              "    <tr>\n",
              "      <th>122570</th>\n",
              "      <td>20100817</td>\n",
              "      <td>ZMH</td>\n",
              "      <td>51.14</td>\n",
              "      <td>51.6000</td>\n",
              "      <td>50.890</td>\n",
              "      <td>51.21</td>\n",
              "      <td>20498</td>\n",
              "    </tr>\n",
              "    <tr>\n",
              "      <th>122571</th>\n",
              "      <td>20100819</td>\n",
              "      <td>ZMH</td>\n",
              "      <td>51.63</td>\n",
              "      <td>51.6300</td>\n",
              "      <td>50.170</td>\n",
              "      <td>50.22</td>\n",
              "      <td>18259</td>\n",
              "    </tr>\n",
              "    <tr>\n",
              "      <th>122572</th>\n",
              "      <td>20100820</td>\n",
              "      <td>ZMH</td>\n",
              "      <td>50.03</td>\n",
              "      <td>50.5500</td>\n",
              "      <td>49.480</td>\n",
              "      <td>49.82</td>\n",
              "      <td>17792</td>\n",
              "    </tr>\n",
              "  </tbody>\n",
              "</table>\n",
              "<p>122573 rows × 7 columns</p>\n",
              "</div>\n",
              "      <button class=\"colab-df-convert\" onclick=\"convertToInteractive('df-404a4e64-708e-4941-bdd4-1b365ecb1745')\"\n",
              "              title=\"Convert this dataframe to an interactive table.\"\n",
              "              style=\"display:none;\">\n",
              "        \n",
              "  <svg xmlns=\"http://www.w3.org/2000/svg\" height=\"24px\"viewBox=\"0 0 24 24\"\n",
              "       width=\"24px\">\n",
              "    <path d=\"M0 0h24v24H0V0z\" fill=\"none\"/>\n",
              "    <path d=\"M18.56 5.44l.94 2.06.94-2.06 2.06-.94-2.06-.94-.94-2.06-.94 2.06-2.06.94zm-11 1L8.5 8.5l.94-2.06 2.06-.94-2.06-.94L8.5 2.5l-.94 2.06-2.06.94zm10 10l.94 2.06.94-2.06 2.06-.94-2.06-.94-.94-2.06-.94 2.06-2.06.94z\"/><path d=\"M17.41 7.96l-1.37-1.37c-.4-.4-.92-.59-1.43-.59-.52 0-1.04.2-1.43.59L10.3 9.45l-7.72 7.72c-.78.78-.78 2.05 0 2.83L4 21.41c.39.39.9.59 1.41.59.51 0 1.02-.2 1.41-.59l7.78-7.78 2.81-2.81c.8-.78.8-2.07 0-2.86zM5.41 20L4 18.59l7.72-7.72 1.47 1.35L5.41 20z\"/>\n",
              "  </svg>\n",
              "      </button>\n",
              "      \n",
              "  <style>\n",
              "    .colab-df-container {\n",
              "      display:flex;\n",
              "      flex-wrap:wrap;\n",
              "      gap: 12px;\n",
              "    }\n",
              "\n",
              "    .colab-df-convert {\n",
              "      background-color: #E8F0FE;\n",
              "      border: none;\n",
              "      border-radius: 50%;\n",
              "      cursor: pointer;\n",
              "      display: none;\n",
              "      fill: #1967D2;\n",
              "      height: 32px;\n",
              "      padding: 0 0 0 0;\n",
              "      width: 32px;\n",
              "    }\n",
              "\n",
              "    .colab-df-convert:hover {\n",
              "      background-color: #E2EBFA;\n",
              "      box-shadow: 0px 1px 2px rgba(60, 64, 67, 0.3), 0px 1px 3px 1px rgba(60, 64, 67, 0.15);\n",
              "      fill: #174EA6;\n",
              "    }\n",
              "\n",
              "    [theme=dark] .colab-df-convert {\n",
              "      background-color: #3B4455;\n",
              "      fill: #D2E3FC;\n",
              "    }\n",
              "\n",
              "    [theme=dark] .colab-df-convert:hover {\n",
              "      background-color: #434B5C;\n",
              "      box-shadow: 0px 1px 3px 1px rgba(0, 0, 0, 0.15);\n",
              "      filter: drop-shadow(0px 1px 2px rgba(0, 0, 0, 0.3));\n",
              "      fill: #FFFFFF;\n",
              "    }\n",
              "  </style>\n",
              "\n",
              "      <script>\n",
              "        const buttonEl =\n",
              "          document.querySelector('#df-404a4e64-708e-4941-bdd4-1b365ecb1745 button.colab-df-convert');\n",
              "        buttonEl.style.display =\n",
              "          google.colab.kernel.accessAllowed ? 'block' : 'none';\n",
              "\n",
              "        async function convertToInteractive(key) {\n",
              "          const element = document.querySelector('#df-404a4e64-708e-4941-bdd4-1b365ecb1745');\n",
              "          const dataTable =\n",
              "            await google.colab.kernel.invokeFunction('convertToInteractive',\n",
              "                                                     [key], {});\n",
              "          if (!dataTable) return;\n",
              "\n",
              "          const docLinkHtml = 'Like what you see? Visit the ' +\n",
              "            '<a target=\"_blank\" href=https://colab.research.google.com/notebooks/data_table.ipynb>data table notebook</a>'\n",
              "            + ' to learn more about interactive tables.';\n",
              "          element.innerHTML = '';\n",
              "          dataTable['output_type'] = 'display_data';\n",
              "          await google.colab.output.renderOutput(dataTable, element);\n",
              "          const docLink = document.createElement('div');\n",
              "          docLink.innerHTML = docLinkHtml;\n",
              "          element.appendChild(docLink);\n",
              "        }\n",
              "      </script>\n",
              "    </div>\n",
              "  </div>\n",
              "  "
            ]
          },
          "metadata": {},
          "execution_count": 2
        }
      ]
    },
    {
      "cell_type": "markdown",
      "metadata": {
        "id": "gsY1lYrvAQYP"
      },
      "source": [
        "2. Рассчитайте среднее значение показателей для каждого из столбцов c номерами 3-6."
      ]
    },
    {
      "cell_type": "code",
      "source": [
        "open_file.iloc[:,2:6].mean()"
      ],
      "metadata": {
        "id": "_5pI0UWpd1k6"
      },
      "execution_count": null,
      "outputs": []
    },
    {
      "cell_type": "markdown",
      "metadata": {
        "id": "3ltxBs6vAQYQ"
      },
      "source": [
        "3. Добавьте столбец, содержащий только число месяца, к которому относится дата."
      ]
    },
    {
      "cell_type": "code",
      "source": [
        "\n",
        "open_file.insert(1, \"month\", value = pd.to_datetime(open_file['date'],format=\"%Y%m%d\").dt.month)\n",
        "print(open_file)\n"
      ],
      "metadata": {
        "id": "FwucuOmXd16k"
      },
      "execution_count": null,
      "outputs": []
    },
    {
      "cell_type": "markdown",
      "metadata": {
        "id": "5y8pQzGvAQYQ"
      },
      "source": [
        "4. Рассчитайте суммарный объем торгов для для одинаковых значений тикеров."
      ]
    },
    {
      "cell_type": "code",
      "source": [
        "open_file[['ticker', 'volume']].groupby('ticker').sum()"
      ],
      "metadata": {
        "colab": {
          "base_uri": "https://localhost:8080/",
          "height": 455
        },
        "id": "lKfBJNDcd2Qy",
        "outputId": "a7d24a60-4143-45de-f0c0-89710371e94f"
      },
      "execution_count": null,
      "outputs": [
        {
          "output_type": "execute_result",
          "data": {
            "text/plain": [
              "          volume\n",
              "ticker          \n",
              "A        8574578\n",
              "AA      81898998\n",
              "AAPL    52261170\n",
              "ABC      9006756\n",
              "ABT     18975870\n",
              "...          ...\n",
              "XTO     21297931\n",
              "YHOO    56837171\n",
              "YUM     10971538\n",
              "ZION    15551119\n",
              "ZMH      4938916\n",
              "\n",
              "[524 rows x 1 columns]"
            ],
            "text/html": [
              "\n",
              "  <div id=\"df-7d3460e7-a953-43c9-82d1-34c37752f637\">\n",
              "    <div class=\"colab-df-container\">\n",
              "      <div>\n",
              "<style scoped>\n",
              "    .dataframe tbody tr th:only-of-type {\n",
              "        vertical-align: middle;\n",
              "    }\n",
              "\n",
              "    .dataframe tbody tr th {\n",
              "        vertical-align: top;\n",
              "    }\n",
              "\n",
              "    .dataframe thead th {\n",
              "        text-align: right;\n",
              "    }\n",
              "</style>\n",
              "<table border=\"1\" class=\"dataframe\">\n",
              "  <thead>\n",
              "    <tr style=\"text-align: right;\">\n",
              "      <th></th>\n",
              "      <th>volume</th>\n",
              "    </tr>\n",
              "    <tr>\n",
              "      <th>ticker</th>\n",
              "      <th></th>\n",
              "    </tr>\n",
              "  </thead>\n",
              "  <tbody>\n",
              "    <tr>\n",
              "      <th>A</th>\n",
              "      <td>8574578</td>\n",
              "    </tr>\n",
              "    <tr>\n",
              "      <th>AA</th>\n",
              "      <td>81898998</td>\n",
              "    </tr>\n",
              "    <tr>\n",
              "      <th>AAPL</th>\n",
              "      <td>52261170</td>\n",
              "    </tr>\n",
              "    <tr>\n",
              "      <th>ABC</th>\n",
              "      <td>9006756</td>\n",
              "    </tr>\n",
              "    <tr>\n",
              "      <th>ABT</th>\n",
              "      <td>18975870</td>\n",
              "    </tr>\n",
              "    <tr>\n",
              "      <th>...</th>\n",
              "      <td>...</td>\n",
              "    </tr>\n",
              "    <tr>\n",
              "      <th>XTO</th>\n",
              "      <td>21297931</td>\n",
              "    </tr>\n",
              "    <tr>\n",
              "      <th>YHOO</th>\n",
              "      <td>56837171</td>\n",
              "    </tr>\n",
              "    <tr>\n",
              "      <th>YUM</th>\n",
              "      <td>10971538</td>\n",
              "    </tr>\n",
              "    <tr>\n",
              "      <th>ZION</th>\n",
              "      <td>15551119</td>\n",
              "    </tr>\n",
              "    <tr>\n",
              "      <th>ZMH</th>\n",
              "      <td>4938916</td>\n",
              "    </tr>\n",
              "  </tbody>\n",
              "</table>\n",
              "<p>524 rows × 1 columns</p>\n",
              "</div>\n",
              "      <button class=\"colab-df-convert\" onclick=\"convertToInteractive('df-7d3460e7-a953-43c9-82d1-34c37752f637')\"\n",
              "              title=\"Convert this dataframe to an interactive table.\"\n",
              "              style=\"display:none;\">\n",
              "        \n",
              "  <svg xmlns=\"http://www.w3.org/2000/svg\" height=\"24px\"viewBox=\"0 0 24 24\"\n",
              "       width=\"24px\">\n",
              "    <path d=\"M0 0h24v24H0V0z\" fill=\"none\"/>\n",
              "    <path d=\"M18.56 5.44l.94 2.06.94-2.06 2.06-.94-2.06-.94-.94-2.06-.94 2.06-2.06.94zm-11 1L8.5 8.5l.94-2.06 2.06-.94-2.06-.94L8.5 2.5l-.94 2.06-2.06.94zm10 10l.94 2.06.94-2.06 2.06-.94-2.06-.94-.94-2.06-.94 2.06-2.06.94z\"/><path d=\"M17.41 7.96l-1.37-1.37c-.4-.4-.92-.59-1.43-.59-.52 0-1.04.2-1.43.59L10.3 9.45l-7.72 7.72c-.78.78-.78 2.05 0 2.83L4 21.41c.39.39.9.59 1.41.59.51 0 1.02-.2 1.41-.59l7.78-7.78 2.81-2.81c.8-.78.8-2.07 0-2.86zM5.41 20L4 18.59l7.72-7.72 1.47 1.35L5.41 20z\"/>\n",
              "  </svg>\n",
              "      </button>\n",
              "      \n",
              "  <style>\n",
              "    .colab-df-container {\n",
              "      display:flex;\n",
              "      flex-wrap:wrap;\n",
              "      gap: 12px;\n",
              "    }\n",
              "\n",
              "    .colab-df-convert {\n",
              "      background-color: #E8F0FE;\n",
              "      border: none;\n",
              "      border-radius: 50%;\n",
              "      cursor: pointer;\n",
              "      display: none;\n",
              "      fill: #1967D2;\n",
              "      height: 32px;\n",
              "      padding: 0 0 0 0;\n",
              "      width: 32px;\n",
              "    }\n",
              "\n",
              "    .colab-df-convert:hover {\n",
              "      background-color: #E2EBFA;\n",
              "      box-shadow: 0px 1px 2px rgba(60, 64, 67, 0.3), 0px 1px 3px 1px rgba(60, 64, 67, 0.15);\n",
              "      fill: #174EA6;\n",
              "    }\n",
              "\n",
              "    [theme=dark] .colab-df-convert {\n",
              "      background-color: #3B4455;\n",
              "      fill: #D2E3FC;\n",
              "    }\n",
              "\n",
              "    [theme=dark] .colab-df-convert:hover {\n",
              "      background-color: #434B5C;\n",
              "      box-shadow: 0px 1px 3px 1px rgba(0, 0, 0, 0.15);\n",
              "      filter: drop-shadow(0px 1px 2px rgba(0, 0, 0, 0.3));\n",
              "      fill: #FFFFFF;\n",
              "    }\n",
              "  </style>\n",
              "\n",
              "      <script>\n",
              "        const buttonEl =\n",
              "          document.querySelector('#df-7d3460e7-a953-43c9-82d1-34c37752f637 button.colab-df-convert');\n",
              "        buttonEl.style.display =\n",
              "          google.colab.kernel.accessAllowed ? 'block' : 'none';\n",
              "\n",
              "        async function convertToInteractive(key) {\n",
              "          const element = document.querySelector('#df-7d3460e7-a953-43c9-82d1-34c37752f637');\n",
              "          const dataTable =\n",
              "            await google.colab.kernel.invokeFunction('convertToInteractive',\n",
              "                                                     [key], {});\n",
              "          if (!dataTable) return;\n",
              "\n",
              "          const docLinkHtml = 'Like what you see? Visit the ' +\n",
              "            '<a target=\"_blank\" href=https://colab.research.google.com/notebooks/data_table.ipynb>data table notebook</a>'\n",
              "            + ' to learn more about interactive tables.';\n",
              "          element.innerHTML = '';\n",
              "          dataTable['output_type'] = 'display_data';\n",
              "          await google.colab.output.renderOutput(dataTable, element);\n",
              "          const docLink = document.createElement('div');\n",
              "          docLink.innerHTML = docLinkHtml;\n",
              "          element.appendChild(docLink);\n",
              "        }\n",
              "      </script>\n",
              "    </div>\n",
              "  </div>\n",
              "  "
            ]
          },
          "metadata": {},
          "execution_count": 11
        }
      ]
    },
    {
      "cell_type": "markdown",
      "metadata": {
        "id": "G4OEOcxdAQYQ"
      },
      "source": [
        "5. Загрузите данные из файла sp500hst.txt и обозначьте столбцы в соответствии с содержимым: \"date\", \"ticker\", \"open\", \"high\", \"low\", \"close\", \"volume\". Добавьте столбец с расшифровкой названия тикера, используя данные из файла `sp_data2.csv` . В случае нехватки данных об именах тикеров корректно обработать их."
      ]
    },
    {
      "cell_type": "code",
      "source": [
        "open_file_csv = pd.read_csv(\"sp_data2.csv\", sep=';')\n",
        "open_file_csv.columns = [\"ticker\", \"company\", \"percent\"]\n",
        "df = pd.merge(open_file,open_file_csv,how='left')\n",
        "open_file"
      ],
      "metadata": {
        "colab": {
          "base_uri": "https://localhost:8080/",
          "height": 423
        },
        "id": "v22kPFmfd25e",
        "outputId": "3fd78b69-6bcf-4567-8163-0bee18242ec2"
      },
      "execution_count": null,
      "outputs": [
        {
          "output_type": "execute_result",
          "data": {
            "text/plain": [
              "            date  month ticker   open     high     low  close  volume\n",
              "0       20090824      8      A  25.64  25.7400  25.330  25.50   22247\n",
              "1       20090825      8      A  25.50  25.7000  25.225  25.34   30891\n",
              "2       20090826      8      A  25.32  25.6425  25.145  25.48   33334\n",
              "3       20090827      8      A  25.50  25.5700  25.230  25.54   70176\n",
              "4       20090828      8      A  25.67  26.0500  25.630  25.83   39694\n",
              "...          ...    ...    ...    ...      ...     ...    ...     ...\n",
              "122568  20100813      8    ZMH  51.72  51.9000  51.380  51.44   14561\n",
              "122569  20100816      8    ZMH  51.13  51.4700  50.600  51.00   13489\n",
              "122570  20100817      8    ZMH  51.14  51.6000  50.890  51.21   20498\n",
              "122571  20100819      8    ZMH  51.63  51.6300  50.170  50.22   18259\n",
              "122572  20100820      8    ZMH  50.03  50.5500  49.480  49.82   17792\n",
              "\n",
              "[122573 rows x 8 columns]"
            ],
            "text/html": [
              "\n",
              "  <div id=\"df-50389f22-5b81-434d-8451-7a092e7238fd\">\n",
              "    <div class=\"colab-df-container\">\n",
              "      <div>\n",
              "<style scoped>\n",
              "    .dataframe tbody tr th:only-of-type {\n",
              "        vertical-align: middle;\n",
              "    }\n",
              "\n",
              "    .dataframe tbody tr th {\n",
              "        vertical-align: top;\n",
              "    }\n",
              "\n",
              "    .dataframe thead th {\n",
              "        text-align: right;\n",
              "    }\n",
              "</style>\n",
              "<table border=\"1\" class=\"dataframe\">\n",
              "  <thead>\n",
              "    <tr style=\"text-align: right;\">\n",
              "      <th></th>\n",
              "      <th>date</th>\n",
              "      <th>month</th>\n",
              "      <th>ticker</th>\n",
              "      <th>open</th>\n",
              "      <th>high</th>\n",
              "      <th>low</th>\n",
              "      <th>close</th>\n",
              "      <th>volume</th>\n",
              "    </tr>\n",
              "  </thead>\n",
              "  <tbody>\n",
              "    <tr>\n",
              "      <th>0</th>\n",
              "      <td>20090824</td>\n",
              "      <td>8</td>\n",
              "      <td>A</td>\n",
              "      <td>25.64</td>\n",
              "      <td>25.7400</td>\n",
              "      <td>25.330</td>\n",
              "      <td>25.50</td>\n",
              "      <td>22247</td>\n",
              "    </tr>\n",
              "    <tr>\n",
              "      <th>1</th>\n",
              "      <td>20090825</td>\n",
              "      <td>8</td>\n",
              "      <td>A</td>\n",
              "      <td>25.50</td>\n",
              "      <td>25.7000</td>\n",
              "      <td>25.225</td>\n",
              "      <td>25.34</td>\n",
              "      <td>30891</td>\n",
              "    </tr>\n",
              "    <tr>\n",
              "      <th>2</th>\n",
              "      <td>20090826</td>\n",
              "      <td>8</td>\n",
              "      <td>A</td>\n",
              "      <td>25.32</td>\n",
              "      <td>25.6425</td>\n",
              "      <td>25.145</td>\n",
              "      <td>25.48</td>\n",
              "      <td>33334</td>\n",
              "    </tr>\n",
              "    <tr>\n",
              "      <th>3</th>\n",
              "      <td>20090827</td>\n",
              "      <td>8</td>\n",
              "      <td>A</td>\n",
              "      <td>25.50</td>\n",
              "      <td>25.5700</td>\n",
              "      <td>25.230</td>\n",
              "      <td>25.54</td>\n",
              "      <td>70176</td>\n",
              "    </tr>\n",
              "    <tr>\n",
              "      <th>4</th>\n",
              "      <td>20090828</td>\n",
              "      <td>8</td>\n",
              "      <td>A</td>\n",
              "      <td>25.67</td>\n",
              "      <td>26.0500</td>\n",
              "      <td>25.630</td>\n",
              "      <td>25.83</td>\n",
              "      <td>39694</td>\n",
              "    </tr>\n",
              "    <tr>\n",
              "      <th>...</th>\n",
              "      <td>...</td>\n",
              "      <td>...</td>\n",
              "      <td>...</td>\n",
              "      <td>...</td>\n",
              "      <td>...</td>\n",
              "      <td>...</td>\n",
              "      <td>...</td>\n",
              "      <td>...</td>\n",
              "    </tr>\n",
              "    <tr>\n",
              "      <th>122568</th>\n",
              "      <td>20100813</td>\n",
              "      <td>8</td>\n",
              "      <td>ZMH</td>\n",
              "      <td>51.72</td>\n",
              "      <td>51.9000</td>\n",
              "      <td>51.380</td>\n",
              "      <td>51.44</td>\n",
              "      <td>14561</td>\n",
              "    </tr>\n",
              "    <tr>\n",
              "      <th>122569</th>\n",
              "      <td>20100816</td>\n",
              "      <td>8</td>\n",
              "      <td>ZMH</td>\n",
              "      <td>51.13</td>\n",
              "      <td>51.4700</td>\n",
              "      <td>50.600</td>\n",
              "      <td>51.00</td>\n",
              "      <td>13489</td>\n",
              "    </tr>\n",
              "    <tr>\n",
              "      <th>122570</th>\n",
              "      <td>20100817</td>\n",
              "      <td>8</td>\n",
              "      <td>ZMH</td>\n",
              "      <td>51.14</td>\n",
              "      <td>51.6000</td>\n",
              "      <td>50.890</td>\n",
              "      <td>51.21</td>\n",
              "      <td>20498</td>\n",
              "    </tr>\n",
              "    <tr>\n",
              "      <th>122571</th>\n",
              "      <td>20100819</td>\n",
              "      <td>8</td>\n",
              "      <td>ZMH</td>\n",
              "      <td>51.63</td>\n",
              "      <td>51.6300</td>\n",
              "      <td>50.170</td>\n",
              "      <td>50.22</td>\n",
              "      <td>18259</td>\n",
              "    </tr>\n",
              "    <tr>\n",
              "      <th>122572</th>\n",
              "      <td>20100820</td>\n",
              "      <td>8</td>\n",
              "      <td>ZMH</td>\n",
              "      <td>50.03</td>\n",
              "      <td>50.5500</td>\n",
              "      <td>49.480</td>\n",
              "      <td>49.82</td>\n",
              "      <td>17792</td>\n",
              "    </tr>\n",
              "  </tbody>\n",
              "</table>\n",
              "<p>122573 rows × 8 columns</p>\n",
              "</div>\n",
              "      <button class=\"colab-df-convert\" onclick=\"convertToInteractive('df-50389f22-5b81-434d-8451-7a092e7238fd')\"\n",
              "              title=\"Convert this dataframe to an interactive table.\"\n",
              "              style=\"display:none;\">\n",
              "        \n",
              "  <svg xmlns=\"http://www.w3.org/2000/svg\" height=\"24px\"viewBox=\"0 0 24 24\"\n",
              "       width=\"24px\">\n",
              "    <path d=\"M0 0h24v24H0V0z\" fill=\"none\"/>\n",
              "    <path d=\"M18.56 5.44l.94 2.06.94-2.06 2.06-.94-2.06-.94-.94-2.06-.94 2.06-2.06.94zm-11 1L8.5 8.5l.94-2.06 2.06-.94-2.06-.94L8.5 2.5l-.94 2.06-2.06.94zm10 10l.94 2.06.94-2.06 2.06-.94-2.06-.94-.94-2.06-.94 2.06-2.06.94z\"/><path d=\"M17.41 7.96l-1.37-1.37c-.4-.4-.92-.59-1.43-.59-.52 0-1.04.2-1.43.59L10.3 9.45l-7.72 7.72c-.78.78-.78 2.05 0 2.83L4 21.41c.39.39.9.59 1.41.59.51 0 1.02-.2 1.41-.59l7.78-7.78 2.81-2.81c.8-.78.8-2.07 0-2.86zM5.41 20L4 18.59l7.72-7.72 1.47 1.35L5.41 20z\"/>\n",
              "  </svg>\n",
              "      </button>\n",
              "      \n",
              "  <style>\n",
              "    .colab-df-container {\n",
              "      display:flex;\n",
              "      flex-wrap:wrap;\n",
              "      gap: 12px;\n",
              "    }\n",
              "\n",
              "    .colab-df-convert {\n",
              "      background-color: #E8F0FE;\n",
              "      border: none;\n",
              "      border-radius: 50%;\n",
              "      cursor: pointer;\n",
              "      display: none;\n",
              "      fill: #1967D2;\n",
              "      height: 32px;\n",
              "      padding: 0 0 0 0;\n",
              "      width: 32px;\n",
              "    }\n",
              "\n",
              "    .colab-df-convert:hover {\n",
              "      background-color: #E2EBFA;\n",
              "      box-shadow: 0px 1px 2px rgba(60, 64, 67, 0.3), 0px 1px 3px 1px rgba(60, 64, 67, 0.15);\n",
              "      fill: #174EA6;\n",
              "    }\n",
              "\n",
              "    [theme=dark] .colab-df-convert {\n",
              "      background-color: #3B4455;\n",
              "      fill: #D2E3FC;\n",
              "    }\n",
              "\n",
              "    [theme=dark] .colab-df-convert:hover {\n",
              "      background-color: #434B5C;\n",
              "      box-shadow: 0px 1px 3px 1px rgba(0, 0, 0, 0.15);\n",
              "      filter: drop-shadow(0px 1px 2px rgba(0, 0, 0, 0.3));\n",
              "      fill: #FFFFFF;\n",
              "    }\n",
              "  </style>\n",
              "\n",
              "      <script>\n",
              "        const buttonEl =\n",
              "          document.querySelector('#df-50389f22-5b81-434d-8451-7a092e7238fd button.colab-df-convert');\n",
              "        buttonEl.style.display =\n",
              "          google.colab.kernel.accessAllowed ? 'block' : 'none';\n",
              "\n",
              "        async function convertToInteractive(key) {\n",
              "          const element = document.querySelector('#df-50389f22-5b81-434d-8451-7a092e7238fd');\n",
              "          const dataTable =\n",
              "            await google.colab.kernel.invokeFunction('convertToInteractive',\n",
              "                                                     [key], {});\n",
              "          if (!dataTable) return;\n",
              "\n",
              "          const docLinkHtml = 'Like what you see? Visit the ' +\n",
              "            '<a target=\"_blank\" href=https://colab.research.google.com/notebooks/data_table.ipynb>data table notebook</a>'\n",
              "            + ' to learn more about interactive tables.';\n",
              "          element.innerHTML = '';\n",
              "          dataTable['output_type'] = 'display_data';\n",
              "          await google.colab.output.renderOutput(dataTable, element);\n",
              "          const docLink = document.createElement('div');\n",
              "          docLink.innerHTML = docLinkHtml;\n",
              "          element.appendChild(docLink);\n",
              "        }\n",
              "      </script>\n",
              "    </div>\n",
              "  </div>\n",
              "  "
            ]
          },
          "metadata": {},
          "execution_count": 6
        }
      ]
    },
    {
      "cell_type": "markdown",
      "metadata": {
        "id": "TKCY_M7tAQYQ"
      },
      "source": [
        "## Лабораторная работа №2"
      ]
    },
    {
      "cell_type": "markdown",
      "metadata": {
        "id": "xiT8erbcAQYR"
      },
      "source": [
        "### Базовые операции с `DataFrame`"
      ]
    },
    {
      "cell_type": "markdown",
      "metadata": {
        "id": "NclrGOpxAQYR"
      },
      "source": [
        "1.1 В файлах `recipes_sample.csv` и `reviews_sample.csv` находится информация об рецептах блюд и отзывах на эти рецепты соответственно. Загрузите данные из файлов в виде `pd.DataFrame` с названиями `recipes` и `reviews`. Обратите внимание на корректное считывание столбца с индексами в таблице `reviews` (безымянный столбец)."
      ]
    },
    {
      "cell_type": "code",
      "source": [
        "recipes = pd.read_csv(\"recipes_sample.csv\")\n",
        "reviews = pd.read_csv(\"reviews_sample.csv\")\n",
        "reviews.head(1)"
      ],
      "metadata": {
        "id": "2p03iRfXlNl0",
        "colab": {
          "base_uri": "https://localhost:8080/",
          "height": 81
        },
        "outputId": "a9bdee8b-75e2-4b97-b84c-596c016920ca"
      },
      "execution_count": null,
      "outputs": [
        {
          "output_type": "execute_result",
          "data": {
            "text/plain": [
              "   Unnamed: 0  user_id  recipe_id        date  rating  \\\n",
              "0      370476    21752      57993  2003-05-01       5   \n",
              "\n",
              "                                              review  \n",
              "0  Last week whole sides of frozen salmon fillet ...  "
            ],
            "text/html": [
              "\n",
              "  <div id=\"df-c114967c-1f33-4115-bbab-e7195c2af6b4\">\n",
              "    <div class=\"colab-df-container\">\n",
              "      <div>\n",
              "<style scoped>\n",
              "    .dataframe tbody tr th:only-of-type {\n",
              "        vertical-align: middle;\n",
              "    }\n",
              "\n",
              "    .dataframe tbody tr th {\n",
              "        vertical-align: top;\n",
              "    }\n",
              "\n",
              "    .dataframe thead th {\n",
              "        text-align: right;\n",
              "    }\n",
              "</style>\n",
              "<table border=\"1\" class=\"dataframe\">\n",
              "  <thead>\n",
              "    <tr style=\"text-align: right;\">\n",
              "      <th></th>\n",
              "      <th>Unnamed: 0</th>\n",
              "      <th>user_id</th>\n",
              "      <th>recipe_id</th>\n",
              "      <th>date</th>\n",
              "      <th>rating</th>\n",
              "      <th>review</th>\n",
              "    </tr>\n",
              "  </thead>\n",
              "  <tbody>\n",
              "    <tr>\n",
              "      <th>0</th>\n",
              "      <td>370476</td>\n",
              "      <td>21752</td>\n",
              "      <td>57993</td>\n",
              "      <td>2003-05-01</td>\n",
              "      <td>5</td>\n",
              "      <td>Last week whole sides of frozen salmon fillet ...</td>\n",
              "    </tr>\n",
              "  </tbody>\n",
              "</table>\n",
              "</div>\n",
              "      <button class=\"colab-df-convert\" onclick=\"convertToInteractive('df-c114967c-1f33-4115-bbab-e7195c2af6b4')\"\n",
              "              title=\"Convert this dataframe to an interactive table.\"\n",
              "              style=\"display:none;\">\n",
              "        \n",
              "  <svg xmlns=\"http://www.w3.org/2000/svg\" height=\"24px\"viewBox=\"0 0 24 24\"\n",
              "       width=\"24px\">\n",
              "    <path d=\"M0 0h24v24H0V0z\" fill=\"none\"/>\n",
              "    <path d=\"M18.56 5.44l.94 2.06.94-2.06 2.06-.94-2.06-.94-.94-2.06-.94 2.06-2.06.94zm-11 1L8.5 8.5l.94-2.06 2.06-.94-2.06-.94L8.5 2.5l-.94 2.06-2.06.94zm10 10l.94 2.06.94-2.06 2.06-.94-2.06-.94-.94-2.06-.94 2.06-2.06.94z\"/><path d=\"M17.41 7.96l-1.37-1.37c-.4-.4-.92-.59-1.43-.59-.52 0-1.04.2-1.43.59L10.3 9.45l-7.72 7.72c-.78.78-.78 2.05 0 2.83L4 21.41c.39.39.9.59 1.41.59.51 0 1.02-.2 1.41-.59l7.78-7.78 2.81-2.81c.8-.78.8-2.07 0-2.86zM5.41 20L4 18.59l7.72-7.72 1.47 1.35L5.41 20z\"/>\n",
              "  </svg>\n",
              "      </button>\n",
              "      \n",
              "  <style>\n",
              "    .colab-df-container {\n",
              "      display:flex;\n",
              "      flex-wrap:wrap;\n",
              "      gap: 12px;\n",
              "    }\n",
              "\n",
              "    .colab-df-convert {\n",
              "      background-color: #E8F0FE;\n",
              "      border: none;\n",
              "      border-radius: 50%;\n",
              "      cursor: pointer;\n",
              "      display: none;\n",
              "      fill: #1967D2;\n",
              "      height: 32px;\n",
              "      padding: 0 0 0 0;\n",
              "      width: 32px;\n",
              "    }\n",
              "\n",
              "    .colab-df-convert:hover {\n",
              "      background-color: #E2EBFA;\n",
              "      box-shadow: 0px 1px 2px rgba(60, 64, 67, 0.3), 0px 1px 3px 1px rgba(60, 64, 67, 0.15);\n",
              "      fill: #174EA6;\n",
              "    }\n",
              "\n",
              "    [theme=dark] .colab-df-convert {\n",
              "      background-color: #3B4455;\n",
              "      fill: #D2E3FC;\n",
              "    }\n",
              "\n",
              "    [theme=dark] .colab-df-convert:hover {\n",
              "      background-color: #434B5C;\n",
              "      box-shadow: 0px 1px 3px 1px rgba(0, 0, 0, 0.15);\n",
              "      filter: drop-shadow(0px 1px 2px rgba(0, 0, 0, 0.3));\n",
              "      fill: #FFFFFF;\n",
              "    }\n",
              "  </style>\n",
              "\n",
              "      <script>\n",
              "        const buttonEl =\n",
              "          document.querySelector('#df-c114967c-1f33-4115-bbab-e7195c2af6b4 button.colab-df-convert');\n",
              "        buttonEl.style.display =\n",
              "          google.colab.kernel.accessAllowed ? 'block' : 'none';\n",
              "\n",
              "        async function convertToInteractive(key) {\n",
              "          const element = document.querySelector('#df-c114967c-1f33-4115-bbab-e7195c2af6b4');\n",
              "          const dataTable =\n",
              "            await google.colab.kernel.invokeFunction('convertToInteractive',\n",
              "                                                     [key], {});\n",
              "          if (!dataTable) return;\n",
              "\n",
              "          const docLinkHtml = 'Like what you see? Visit the ' +\n",
              "            '<a target=\"_blank\" href=https://colab.research.google.com/notebooks/data_table.ipynb>data table notebook</a>'\n",
              "            + ' to learn more about interactive tables.';\n",
              "          element.innerHTML = '';\n",
              "          dataTable['output_type'] = 'display_data';\n",
              "          await google.colab.output.renderOutput(dataTable, element);\n",
              "          const docLink = document.createElement('div');\n",
              "          docLink.innerHTML = docLinkHtml;\n",
              "          element.appendChild(docLink);\n",
              "        }\n",
              "      </script>\n",
              "    </div>\n",
              "  </div>\n",
              "  "
            ]
          },
          "metadata": {},
          "execution_count": 12
        }
      ]
    },
    {
      "cell_type": "markdown",
      "metadata": {
        "id": "vtjkm9UuAQYR"
      },
      "source": [
        "1.2 Для каждой из таблиц выведите основные параметры:\n",
        "* количество точек данных (строк);\n",
        "* количество столбцов;\n",
        "* тип данных каждого столбца."
      ]
    },
    {
      "cell_type": "code",
      "source": [
        "print(\"Данные о рецептах:\")\n",
        "print(\"Кол-во строк = {}\".format(recipes.shape[0]))\n",
        "print(\"Кол-во столбцов = {}\".format(recipes.shape[1]))\n",
        "print({i:recipes.dtypes[i].name for i in recipes})\n",
        "print(\"Данные о отзывах:\")\n",
        "print(\"Кол-во строк = {}\".format(reviews.shape[0]))\n",
        "print(\"Кол-во столбцов = {}\".format(reviews.shape[1]))\n",
        "print({i:reviews.dtypes[i].name for i in reviews})"
      ],
      "metadata": {
        "id": "LAzlIR6ClN8a"
      },
      "execution_count": null,
      "outputs": []
    },
    {
      "cell_type": "markdown",
      "metadata": {
        "id": "Wz_sZRGGAQYR"
      },
      "source": [
        "1.3 Исследуйте, в каких столбцах таблиц содержатся пропуски. Посчитайте долю строк, содержащих пропуски, в отношении к общему количеству строк."
      ]
    },
    {
      "cell_type": "code",
      "source": [
        "# о рецептах\n",
        "print((recipes.shape[0]-recipes.dropna().shape[0])/recipes.shape[0])\n",
        "\n",
        "# данные о отзывах\n",
        "print((reviews.shape[0]-reviews.dropna().shape[0])/reviews.shape[0])\n",
        "\n"
      ],
      "metadata": {
        "id": "qCgfLZbslOik",
        "colab": {
          "base_uri": "https://localhost:8080/"
        },
        "outputId": "a59a8afb-0c36-40f2-d187-b30e1bd67e67"
      },
      "execution_count": null,
      "outputs": [
        {
          "output_type": "stream",
          "name": "stdout",
          "text": [
            "0.5684666666666667\n",
            "0.00013417945317926376\n"
          ]
        }
      ]
    },
    {
      "cell_type": "markdown",
      "metadata": {
        "id": "OLAfJX-LAQYS"
      },
      "source": [
        "1.4 Рассчитайте среднее значение для каждого из числовых столбцов (где это имеет смысл)."
      ]
    },
    {
      "cell_type": "code",
      "source": [
        "print(\"Данные о рецептах:\")\n",
        "print(recipes[[\"minutes\",\"n_ingredients\",\"n_steps\"]].mean())\n",
        "print()\n",
        "print(\"Данные о отзывах:\")\n",
        "print(reviews[[\"rating\"]].mean())"
      ],
      "metadata": {
        "id": "0ZhBTtBplOUO"
      },
      "execution_count": null,
      "outputs": []
    },
    {
      "cell_type": "markdown",
      "metadata": {
        "id": "9G20dmD7AQYS"
      },
      "source": [
        "1.5 Создайте серию из 10 случайных названий рецептов."
      ]
    },
    {
      "cell_type": "code",
      "source": [
        "print(recipes[\"name\"].sample(10))"
      ],
      "metadata": {
        "id": "huTfwV2ilO6e",
        "colab": {
          "base_uri": "https://localhost:8080/"
        },
        "outputId": "b9cf2103-14f6-4f63-a720-ea2ef707c957"
      },
      "execution_count": null,
      "outputs": [
        {
          "output_type": "stream",
          "name": "stdout",
          "text": [
            "24892                               south beach danish\n",
            "13448                    healthy caramel apple muffins\n",
            "24856                   sourdough cinnamon swirl bread\n",
            "7                           say what   banana sandwich\n",
            "6665                             chocolate mint cooler\n",
            "15856            lemon cornmeal cookies  cooking light\n",
            "19870                              parmesan oven fries\n",
            "8693     crock pot roast pork loin w  kraut and potato\n",
            "2348                                        barley tea\n",
            "21669                    pumpkin carrot pudding  kugel\n",
            "Name: name, dtype: object\n"
          ]
        }
      ]
    },
    {
      "cell_type": "markdown",
      "metadata": {
        "id": "PenVtVoXAQYS"
      },
      "source": [
        "1.6 Измените индекс в таблице `reviews`, пронумеровав строки, начиная с нуля."
      ]
    },
    {
      "cell_type": "code",
      "source": [],
      "metadata": {
        "id": "OeMKSMDb0cxG"
      },
      "execution_count": null,
      "outputs": []
    },
    {
      "cell_type": "markdown",
      "metadata": {
        "id": "JSgBjP7bAQYS"
      },
      "source": [
        "1.7 Выведите информацию о рецептах, время выполнения которых не больше 20 минут и кол-во ингредиентов в которых не больше 5."
      ]
    },
    {
      "cell_type": "code",
      "source": [
        "print(recipes.loc[(recipes['minutes'] < 21) & (recipes['n_ingredients'] < 6)])"
      ],
      "metadata": {
        "id": "RENu0ShXlPrP"
      },
      "execution_count": null,
      "outputs": []
    },
    {
      "cell_type": "markdown",
      "metadata": {
        "id": "cQzzMJXoAQYS"
      },
      "source": [
        "### Работа с датами в `pandas`"
      ]
    },
    {
      "cell_type": "markdown",
      "metadata": {
        "id": "Jlk0oqShAQYS"
      },
      "source": [
        "2.1 Преобразуйте столбец `submitted` из таблицы `recipes` в формат времени. Модифицируйте решение задачи 1.1 так, чтобы считать столбец сразу в нужном формате."
      ]
    },
    {
      "cell_type": "code",
      "source": [
        "import datetime"
      ],
      "metadata": {
        "id": "2Dqs2o1w-c6-"
      },
      "execution_count": null,
      "outputs": []
    },
    {
      "cell_type": "code",
      "source": [
        "recipes = pd.read_csv(\"recipes_sample.csv\")\n",
        "recipes[\"submitted\"] = pd.to_datetime(recipes[\"submitted\"])\n",
        "recipes['submitted']"
      ],
      "metadata": {
        "id": "MsWEYlMklQPy",
        "colab": {
          "base_uri": "https://localhost:8080/"
        },
        "outputId": "c0ae5ae8-5a1f-4a65-8f5b-1ac52c08d525"
      },
      "execution_count": null,
      "outputs": [
        {
          "output_type": "execute_result",
          "data": {
            "text/plain": [
              "0       2002-10-25\n",
              "1       2003-07-26\n",
              "2       2002-08-29\n",
              "3       2002-07-27\n",
              "4       2004-02-23\n",
              "           ...    \n",
              "29995   2007-11-25\n",
              "29996   2009-08-24\n",
              "29997   2004-11-03\n",
              "29998   2012-08-29\n",
              "29999   2008-04-15\n",
              "Name: submitted, Length: 30000, dtype: datetime64[ns]"
            ]
          },
          "metadata": {},
          "execution_count": 20
        }
      ]
    },
    {
      "cell_type": "markdown",
      "metadata": {
        "id": "GRdHxENoAQYT"
      },
      "source": [
        "2.2 Выведите информацию о рецептах, добавленных в датасет не позже 2010 года."
      ]
    },
    {
      "cell_type": "code",
      "source": [
        "recipes[\"submitted\"] = recipes[\"submitted\"].astype(\"datetime64[ns]\")\n",
        "print(recipes.loc[(recipes['submitted'].dt.year <= 2010)])"
      ],
      "metadata": {
        "id": "Dm0xXFdolQjS"
      },
      "execution_count": null,
      "outputs": []
    },
    {
      "cell_type": "markdown",
      "metadata": {
        "id": "aoaRof-sAQYT"
      },
      "source": [
        "### Работа со строковыми данными в `pandas`"
      ]
    },
    {
      "cell_type": "markdown",
      "metadata": {
        "id": "UCwU6rMSAQYT"
      },
      "source": [
        "3.1  Добавьте в таблицу `recipes` столбец `description_length`, в котором хранится длина описания рецепта из столбца `description`."
      ]
    },
    {
      "cell_type": "code",
      "source": [
        "recipes[\"description_length\"] = recipes[\"description\"].str.len()\n",
        "print(recipes)\n"
      ],
      "metadata": {
        "id": "XzeGirPdzXQG"
      },
      "execution_count": null,
      "outputs": []
    },
    {
      "cell_type": "markdown",
      "metadata": {
        "id": "HhLunwXFAQYT"
      },
      "source": [
        "3.2 Измените название каждого рецепта в таблице `recipes` таким образом, чтобы каждое слово в названии начиналось с прописной буквы."
      ]
    },
    {
      "cell_type": "code",
      "source": [
        "recipes[\"name\"] = recipes[\"name\"].str.title()\n",
        "print(recipes)"
      ],
      "metadata": {
        "id": "F95bAKkVlR0M",
        "colab": {
          "base_uri": "https://localhost:8080/"
        },
        "outputId": "4bb57c92-fdd0-49be-e1e2-777313928b19"
      },
      "execution_count": null,
      "outputs": [
        {
          "output_type": "stream",
          "name": "stdout",
          "text": [
            "                                               name      id  minutes  \\\n",
            "0             George S At The Cove  Black Bean Soup   44123       90   \n",
            "1                Healthy For Them  Yogurt Popsicles   67664       10   \n",
            "2                      I Can T Believe It S Spinach   38798       30   \n",
            "3                              Italian  Gut Busters   35173       45   \n",
            "4          Love Is In The Air  Beef Fondue   Sauces   84797       25   \n",
            "...                                             ...     ...      ...   \n",
            "29995  Zurie S Holey Rustic Olive And Cheddar Bread  267661       80   \n",
            "29996          Zwetschgenkuchen  Bavarian Plum Cake  386977      240   \n",
            "29997   Zwiebelkuchen   Southwest German Onion Cake  103312       75   \n",
            "29998                                   Zydeco Soup  486161       60   \n",
            "29999        Cookies By Design   Cookies On A Stick  298512       29   \n",
            "\n",
            "       contributor_id   submitted  n_steps  \\\n",
            "0               35193  2002-10-25      NaN   \n",
            "1               91970  2003-07-26      NaN   \n",
            "2                1533  2002-08-29      NaN   \n",
            "3               22724  2002-07-27      NaN   \n",
            "4                4470  2004-02-23      4.0   \n",
            "...               ...         ...      ...   \n",
            "29995          200862  2007-11-25     16.0   \n",
            "29996          177443  2009-08-24      NaN   \n",
            "29997          161745  2004-11-03      NaN   \n",
            "29998          227978  2012-08-29      NaN   \n",
            "29999          506822  2008-04-15      9.0   \n",
            "\n",
            "                                             description  n_ingredients  \n",
            "0      an original recipe created by chef scott meska...           18.0  \n",
            "1      my children and their friends ask for my homem...            NaN  \n",
            "2                these were so go, it surprised even me.            8.0  \n",
            "3      my sister-in-law made these for us at a family...            NaN  \n",
            "4      i think a fondue is a very romantic casual din...            NaN  \n",
            "...                                                  ...            ...  \n",
            "29995  this is based on a french recipe but i changed...           10.0  \n",
            "29996  this is a traditional fresh plum cake, thought...           11.0  \n",
            "29997  this is a traditional late summer early fall s...            NaN  \n",
            "29998  this is a delicious soup that i originally fou...            NaN  \n",
            "29999  i've heard of the 'cookies by design' company,...           10.0  \n",
            "\n",
            "[30000 rows x 8 columns]\n"
          ]
        }
      ]
    },
    {
      "cell_type": "markdown",
      "metadata": {
        "id": "AWYol2P5AQYT"
      },
      "source": [
        "3.3 Добавьте в таблицу `recipes` столбец `name_word_count`, в котором хранится количество слов из названии рецепта (считайте, что слова в названии разделяются только пробелами). Обратите внимание, что между словами может располагаться несколько пробелов подряд."
      ]
    },
    {
      "cell_type": "code",
      "source": [
        "recipes[\"name_word_count\"] = recipes[\"name\"].str.findall(r'\\w+').apply(len)\n",
        "print(recipes)\n"
      ],
      "metadata": {
        "id": "LnzoekDAlSDr"
      },
      "execution_count": null,
      "outputs": []
    },
    {
      "cell_type": "markdown",
      "metadata": {
        "id": "n_Up5lNHAQYT"
      },
      "source": [
        "### Группировки таблиц `pd.DataFrame`"
      ]
    },
    {
      "cell_type": "markdown",
      "metadata": {
        "id": "6UJDRgNGAQYT"
      },
      "source": [
        "4.1 Посчитайте количество рецептов, представленных каждым из участников (`contributor_id`). Какой участник добавил максимальное кол-во рецептов?"
      ]
    },
    {
      "cell_type": "code",
      "source": [
        "recipes = pd.read_csv(\"recipes_sample.csv\")\n",
        "max_recipes = recipes[['contributor_id', 'id']].groupby('contributor_id').count()\n",
        "print(max_recipes)\n",
        "print(max_recipes[max_recipes[\"id\"] == max_recipes[\"id\"].max()])"
      ],
      "metadata": {
        "id": "UjfnIPyglS1o",
        "colab": {
          "base_uri": "https://localhost:8080/"
        },
        "outputId": "2047698c-0bad-4d8d-cc39-044404595b27"
      },
      "execution_count": null,
      "outputs": [
        {
          "output_type": "stream",
          "name": "stdout",
          "text": [
            "                 id\n",
            "contributor_id     \n",
            "1530              5\n",
            "1533            186\n",
            "1534             50\n",
            "1535             40\n",
            "1538              8\n",
            "...             ...\n",
            "2001968497        2\n",
            "2002059754        1\n",
            "2002234079        1\n",
            "2002234259        1\n",
            "2002247884        1\n",
            "\n",
            "[8404 rows x 1 columns]\n",
            "                 id\n",
            "contributor_id     \n",
            "89831           421\n"
          ]
        }
      ]
    },
    {
      "cell_type": "markdown",
      "metadata": {
        "id": "KmA7dx_QAQYU"
      },
      "source": [
        "4.2 Посчитайте средний рейтинг к каждому из рецептов. Для скольких рецептов отсутствуют отзывы? Обратите внимание, что отзыв с нулевым рейтингом или не заполненным текстовым описанием не считается отсутствующим."
      ]
    },
    {
      "cell_type": "code",
      "source": [
        "a = reviews[[\"recipe_id\",\"rating\"]].groupby('recipe_id').mean()\n",
        "print(a)\n",
        "print(\"Отзывы отсутствуют для {} рецептов\".format(reviews.shape[0] - a.shape[0]))"
      ],
      "metadata": {
        "id": "vI3HXd2glTNo"
      },
      "execution_count": null,
      "outputs": []
    },
    {
      "cell_type": "markdown",
      "metadata": {
        "id": "1tydtzNVAQYU"
      },
      "source": [
        "4.3 Посчитайте количество рецептов с разбивкой по годам создания."
      ]
    },
    {
      "cell_type": "code",
      "source": [
        "recipes = pd.read_csv(\"recipes_sample.csv\")\n",
        "recipes[\"submitted\"] = recipes[\"submitted\"].astype(\"datetime64[ns]\")\n",
        "print(recipes['name'].groupby(recipes[\"submitted\"].dt.year).count())"
      ],
      "metadata": {
        "id": "QFkt3VJhlTfX",
        "colab": {
          "base_uri": "https://localhost:8080/"
        },
        "outputId": "4e8fce6c-ff7a-452a-a3d2-54f6af9c586e"
      },
      "execution_count": null,
      "outputs": [
        {
          "output_type": "stream",
          "name": "stdout",
          "text": [
            "submitted\n",
            "1999     275\n",
            "2000     104\n",
            "2001     589\n",
            "2002    2644\n",
            "2003    2334\n",
            "2004    2153\n",
            "2005    3130\n",
            "2006    3473\n",
            "2007    4429\n",
            "2008    4029\n",
            "2009    2963\n",
            "2010    1538\n",
            "2011     922\n",
            "2012     659\n",
            "2013     490\n",
            "2014     139\n",
            "2015      42\n",
            "2016      24\n",
            "2017      39\n",
            "2018      24\n",
            "Name: name, dtype: int64\n"
          ]
        }
      ]
    },
    {
      "cell_type": "markdown",
      "metadata": {
        "id": "7DQahUwqAQYU"
      },
      "source": [
        "### Объединение таблиц `pd.DataFrame`"
      ]
    },
    {
      "cell_type": "markdown",
      "metadata": {
        "id": "FtVwRod8AQYU"
      },
      "source": [
        "5.1 При помощи объединения таблиц, создайте `DataFrame`, состоящий из четырех столбцов: `id`, `name`, `user_id`, `rating`. Рецепты, на которые не оставлен ни один отзыв, должны отсутствовать в полученной таблице. Подтвердите правильность работы вашего кода, выбрав рецепт, не имеющий отзывов, и попытавшись найти строку, соответствующую этому рецепту, в полученном `DataFrame`."
      ]
    },
    {
      "cell_type": "code",
      "source": [
        "recipes = pd.read_csv(\"recipes_sample.csv\")\n",
        "reviews = pd.read_csv(\"reviews_sample.csv\")\n",
        "new_df = pd.merge(recipes[[\"id\",\"name\"]], reviews[[\"user_id\",\"rating\",\"recipe_id\",\"review\"]], how='right',left_on=\"id\", right_on='recipe_id')\n",
        "new_df = new_df.dropna()\n",
        "new_df = new_df.reset_index(drop = True)\n",
        "new_df.drop('recipe_id', axis=1, inplace=True)\n",
        "print(new_df)\n",
        "\n",
        "print()\n",
        "print(reviews[reviews['review'].isna()].index)\n",
        "print(reviews.iloc[8881])\n",
        "print()\n",
        "print(new_df.loc[new_df[\"user_id\"]==2001567544])"
      ],
      "metadata": {
        "id": "wY8SpJdLlUMv"
      },
      "execution_count": null,
      "outputs": []
    },
    {
      "cell_type": "markdown",
      "metadata": {
        "id": "e-HY11VyAQYU"
      },
      "source": [
        "5.2 При помощи объединения таблиц и группировок, создайте `DataFrame`, состоящий из трех столбцов: `recipe_id`, `name`, `review_count`, где столбец `review_count` содержит кол-во отзывов, оставленных на рецепт `recipe_id`. У рецептов, на которые не оставлен ни один отзыв, в столбце `review_count` должен быть указан 0. Подтвердите правильность работы вашего кода, выбрав рецепт, не имеющий отзывов, и найдя строку, соответствующую этому рецепту, в полученном `DataFrame`."
      ]
    },
    {
      "cell_type": "code",
      "source": [
        "recipes = pd.read_csv(\"recipes_sample.csv\")\n",
        "reviews = pd.read_csv(\"reviews_sample.csv\")\n",
        "recipes = recipes.fillna(0, downcast='infer')\n",
        "reviews = reviews.fillna(0, downcast='infer')\n",
        "group_review = reviews.groupby(\"recipe_id\")[\"review\"].count().reset_index(level=0)\n",
        "print(group_review)\n",
        "df = recipes[['id','name']].merge(group_review, left_on='id',right_on='recipe_id', how='left').fillna(0, downcast='infer').drop(['recipe_id'],axis=1)\n",
        "df = df.rename(columns={'id': 'recipe_id', 'review': 'review_count'})\n",
        "print(df)\n",
        "print(df.loc[df[\"review_count\"]==0])"
      ],
      "metadata": {
        "id": "t6p0ciQ9lUnQ"
      },
      "execution_count": null,
      "outputs": []
    },
    {
      "cell_type": "markdown",
      "metadata": {
        "id": "bWRt8-0TAQYU"
      },
      "source": [
        "5.3. Выясните, рецепты, добавленные в каком году, имеют наименьший средний рейтинг?"
      ]
    },
    {
      "cell_type": "code",
      "source": [
        "reviews = pd.read_csv(\"reviews_sample.csv\")\n",
        "print(reviews['rating'].groupby(pd.DatetimeIndex(reviews['date']).year).mean().sort_values())"
      ],
      "metadata": {
        "id": "mac3uimelU4s"
      },
      "execution_count": null,
      "outputs": []
    },
    {
      "cell_type": "markdown",
      "metadata": {
        "id": "B9kSIgePAQYU"
      },
      "source": [
        "### Сохранение таблиц `pd.DataFrame`"
      ]
    },
    {
      "cell_type": "markdown",
      "metadata": {
        "id": "_Vv7SrQbAQYU"
      },
      "source": [
        "6.1 Отсортируйте таблицу в порядке убывания величины столбца `name_word_count` и сохраните результаты выполнения заданий 3.1-3.3 в csv файл. "
      ]
    },
    {
      "cell_type": "code",
      "source": [
        "recipes = pd.read_csv(\"recipes_sample.csv\")\n",
        "recipes[\"description_length\"] = recipes[\"description\"].str.len()\n",
        "recipes[\"name\"] = recipes[\"name\"].str.capitalize()\n",
        "recipes[\"name_word_count\"] = recipes[\"name\"].str.findall(r'\\w+').apply(len)\n",
        "recipes.sort_values(by=['name_word_count'])\n",
        "recipes.to_csv(\"3.1-3.3.csv\")\n"
      ],
      "metadata": {
        "id": "d7Kwu3EPlVg2"
      },
      "execution_count": null,
      "outputs": []
    },
    {
      "cell_type": "markdown",
      "metadata": {
        "id": "S6GR8yLqAQYU"
      },
      "source": [
        "6.2 Воспользовавшись `pd.ExcelWriter`, cохраните результаты 5.1 и 5.2 в файл: на лист с названием `Рецепты с оценками` сохраните результаты выполнения 5.1; на лист с названием `Количество отзывов по рецептам` сохраните результаты выполнения 5.2."
      ]
    },
    {
      "cell_type": "code",
      "execution_count": null,
      "metadata": {
        "id": "c8lLdMh-AQYV"
      },
      "outputs": [],
      "source": [
        "recipes = pd.read_csv(\"recipes_sample.csv\")\n",
        "reviews = pd.read_csv(\"reviews_sample.csv\")\n",
        "new_df = pd.merge(recipes[[\"id\",\"name\"]], reviews[[\"user_id\",\"rating\",\"recipe_id\",\"review\"]], how='right',left_on=\"id\", right_on='recipe_id')\n",
        "new_df = new_df.dropna()\n",
        "new_df = new_df.reset_index(drop = True)\n",
        "new_df.drop('recipe_id', axis=1, inplace=True)\n",
        "recipes = recipes.fillna(0, downcast='infer')\n",
        "reviews = reviews.fillna(0, downcast='infer')\n",
        "group_review = reviews.groupby(\"recipe_id\")[\"review\"].count().reset_index(level=0)\n",
        "df = recipes[['id','name']].merge(group_review, left_on='id',right_on='recipe_id', how='left').fillna(0, downcast='infer').drop(['recipe_id'],axis=1)\n",
        "df = df.rename(columns={'id': 'recipe_id', 'review': 'review_count'})\n",
        "\n",
        "with pd.ExcelWriter(r\"5.1-5.2.xlsx\") as writer:\n",
        "    new_df.to_excel(writer, sheet_name=\"Рецепты с оценками\")\n",
        "    df.to_excel(writer, sheet_name=\"Количество отзывов по рецептам\")"
      ]
    }
  ],
  "metadata": {
    "kernelspec": {
      "display_name": "Python 3",
      "language": "python",
      "name": "python3"
    },
    "language_info": {
      "codemirror_mode": {
        "name": "ipython",
        "version": 3
      },
      "file_extension": ".py",
      "mimetype": "text/x-python",
      "name": "python",
      "nbconvert_exporter": "python",
      "pygments_lexer": "ipython3",
      "version": "3.7.4"
    },
    "colab": {
      "provenance": []
    }
  },
  "nbformat": 4,
  "nbformat_minor": 0
}